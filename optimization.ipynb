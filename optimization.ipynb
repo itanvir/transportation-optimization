{
 "cells": [
  {
   "cell_type": "markdown",
   "metadata": {},
   "source": [
    "# Prerequisite"
   ]
  },
  {
   "cell_type": "code",
   "execution_count": 26,
   "metadata": {},
   "outputs": [],
   "source": [
    "import pandas as pd\n",
    "import folium\n",
    "from scipy.spatial.distance import cdist"
   ]
  },
  {
   "cell_type": "markdown",
   "metadata": {},
   "source": [
    "# Load datasets into dataframe"
   ]
  },
  {
   "cell_type": "code",
   "execution_count": 18,
   "metadata": {},
   "outputs": [],
   "source": [
    "bus_stops = pd.read_csv('data/Bus_Stops_Geocoded.csv')\n",
    "employee_addresses = pd.read_csv('data/Employee_Addresses_Geocoded.csv')"
   ]
  },
  {
   "cell_type": "code",
   "execution_count": 19,
   "metadata": {},
   "outputs": [
    {
     "data": {
      "text/html": [
       "<div>\n",
       "<style scoped>\n",
       "    .dataframe tbody tr th:only-of-type {\n",
       "        vertical-align: middle;\n",
       "    }\n",
       "\n",
       "    .dataframe tbody tr th {\n",
       "        vertical-align: top;\n",
       "    }\n",
       "\n",
       "    .dataframe thead th {\n",
       "        text-align: right;\n",
       "    }\n",
       "</style>\n",
       "<table border=\"1\" class=\"dataframe\">\n",
       "  <thead>\n",
       "    <tr style=\"text-align: right;\">\n",
       "      <th></th>\n",
       "      <th>Unnamed: 0</th>\n",
       "      <th>Street_One</th>\n",
       "      <th>Street_Two</th>\n",
       "      <th>address</th>\n",
       "      <th>address2</th>\n",
       "      <th>address3</th>\n",
       "      <th>longitude</th>\n",
       "      <th>latitude</th>\n",
       "    </tr>\n",
       "  </thead>\n",
       "  <tbody>\n",
       "    <tr>\n",
       "      <th>0</th>\n",
       "      <td>0</td>\n",
       "      <td>MISSION ST</td>\n",
       "      <td>ITALY AVE</td>\n",
       "      <td>MISSION ST and ITALY AVE , San Francisco, CA</td>\n",
       "      <td>ITALY AVE and MISSION ST, San Francisco, CA</td>\n",
       "      <td>ITALY AVE , San Francisco, CA</td>\n",
       "      <td>-122.439211</td>\n",
       "      <td>37.718696</td>\n",
       "    </tr>\n",
       "    <tr>\n",
       "      <th>1</th>\n",
       "      <td>1</td>\n",
       "      <td>MISSION ST</td>\n",
       "      <td>NEW MONTGOMERY ST</td>\n",
       "      <td>MISSION ST and NEW MONTGOMERY ST , San Francis...</td>\n",
       "      <td>NEW MONTGOMERY ST and MISSION ST, San Francisc...</td>\n",
       "      <td>NEW MONTGOMERY ST , San Francisco, CA</td>\n",
       "      <td>-122.400821</td>\n",
       "      <td>37.787704</td>\n",
       "    </tr>\n",
       "    <tr>\n",
       "      <th>2</th>\n",
       "      <td>2</td>\n",
       "      <td>MISSION ST</td>\n",
       "      <td>01ST ST</td>\n",
       "      <td>MISSION ST and 01ST ST , San Francisco, CA</td>\n",
       "      <td>01ST ST and MISSION ST, San Francisco, CA</td>\n",
       "      <td>01ST ST , San Francisco, CA</td>\n",
       "      <td>-122.397352</td>\n",
       "      <td>37.789470</td>\n",
       "    </tr>\n",
       "    <tr>\n",
       "      <th>3</th>\n",
       "      <td>3</td>\n",
       "      <td>MISSION ST</td>\n",
       "      <td>20TH ST</td>\n",
       "      <td>MISSION ST and 20TH ST , San Francisco, CA</td>\n",
       "      <td>20TH ST and MISSION ST, San Francisco, CA</td>\n",
       "      <td>20TH ST , San Francisco, CA</td>\n",
       "      <td>-122.418988</td>\n",
       "      <td>37.758812</td>\n",
       "    </tr>\n",
       "    <tr>\n",
       "      <th>4</th>\n",
       "      <td>4</td>\n",
       "      <td>MISSION ST</td>\n",
       "      <td>FREMONT ST</td>\n",
       "      <td>MISSION ST and FREMONT ST , San Francisco, CA</td>\n",
       "      <td>FREMONT ST and MISSION ST, San Francisco, CA</td>\n",
       "      <td>FREMONT ST , San Francisco, CA</td>\n",
       "      <td>-122.396762</td>\n",
       "      <td>37.790306</td>\n",
       "    </tr>\n",
       "  </tbody>\n",
       "</table>\n",
       "</div>"
      ],
      "text/plain": [
       "   Unnamed: 0  Street_One         Street_Two  \\\n",
       "0           0  MISSION ST          ITALY AVE   \n",
       "1           1  MISSION ST  NEW MONTGOMERY ST   \n",
       "2           2  MISSION ST            01ST ST   \n",
       "3           3  MISSION ST            20TH ST   \n",
       "4           4  MISSION ST         FREMONT ST   \n",
       "\n",
       "                                             address  \\\n",
       "0       MISSION ST and ITALY AVE , San Francisco, CA   \n",
       "1  MISSION ST and NEW MONTGOMERY ST , San Francis...   \n",
       "2         MISSION ST and 01ST ST , San Francisco, CA   \n",
       "3         MISSION ST and 20TH ST , San Francisco, CA   \n",
       "4      MISSION ST and FREMONT ST , San Francisco, CA   \n",
       "\n",
       "                                            address2  \\\n",
       "0        ITALY AVE and MISSION ST, San Francisco, CA   \n",
       "1  NEW MONTGOMERY ST and MISSION ST, San Francisc...   \n",
       "2          01ST ST and MISSION ST, San Francisco, CA   \n",
       "3          20TH ST and MISSION ST, San Francisco, CA   \n",
       "4       FREMONT ST and MISSION ST, San Francisco, CA   \n",
       "\n",
       "                                address3   longitude   latitude  \n",
       "0          ITALY AVE , San Francisco, CA -122.439211  37.718696  \n",
       "1  NEW MONTGOMERY ST , San Francisco, CA -122.400821  37.787704  \n",
       "2            01ST ST , San Francisco, CA -122.397352  37.789470  \n",
       "3            20TH ST , San Francisco, CA -122.418988  37.758812  \n",
       "4         FREMONT ST , San Francisco, CA -122.396762  37.790306  "
      ]
     },
     "execution_count": 19,
     "metadata": {},
     "output_type": "execute_result"
    }
   ],
   "source": [
    "bus_stops.head()"
   ]
  },
  {
   "cell_type": "code",
   "execution_count": 20,
   "metadata": {},
   "outputs": [
    {
     "data": {
      "text/html": [
       "<div>\n",
       "<style scoped>\n",
       "    .dataframe tbody tr th:only-of-type {\n",
       "        vertical-align: middle;\n",
       "    }\n",
       "\n",
       "    .dataframe tbody tr th {\n",
       "        vertical-align: top;\n",
       "    }\n",
       "\n",
       "    .dataframe thead th {\n",
       "        text-align: right;\n",
       "    }\n",
       "</style>\n",
       "<table border=\"1\" class=\"dataframe\">\n",
       "  <thead>\n",
       "    <tr style=\"text-align: right;\">\n",
       "      <th></th>\n",
       "      <th>Unnamed: 0</th>\n",
       "      <th>address</th>\n",
       "      <th>employee_id</th>\n",
       "      <th>longitude</th>\n",
       "      <th>latitude</th>\n",
       "    </tr>\n",
       "  </thead>\n",
       "  <tbody>\n",
       "    <tr>\n",
       "      <th>0</th>\n",
       "      <td>0</td>\n",
       "      <td>98 Edinburgh St, San Francisco, CA 94112, USA</td>\n",
       "      <td>206</td>\n",
       "      <td>-122.427311</td>\n",
       "      <td>37.727605</td>\n",
       "    </tr>\n",
       "    <tr>\n",
       "      <th>1</th>\n",
       "      <td>1</td>\n",
       "      <td>237 Accacia St, Daly City, CA 94014, USA</td>\n",
       "      <td>2081</td>\n",
       "      <td>-122.415915</td>\n",
       "      <td>37.704391</td>\n",
       "    </tr>\n",
       "    <tr>\n",
       "      <th>2</th>\n",
       "      <td>2</td>\n",
       "      <td>1835 Folsom St, San Francisco, CA 94103, USA</td>\n",
       "      <td>178</td>\n",
       "      <td>-122.415454</td>\n",
       "      <td>37.767950</td>\n",
       "    </tr>\n",
       "    <tr>\n",
       "      <th>3</th>\n",
       "      <td>3</td>\n",
       "      <td>170 Cambridge St, San Francisco, CA 94134, USA</td>\n",
       "      <td>50</td>\n",
       "      <td>-122.419539</td>\n",
       "      <td>37.729672</td>\n",
       "    </tr>\n",
       "    <tr>\n",
       "      <th>4</th>\n",
       "      <td>4</td>\n",
       "      <td>16 Roanoke St, San Francisco, CA 94131, USA</td>\n",
       "      <td>1863</td>\n",
       "      <td>-122.431277</td>\n",
       "      <td>37.736422</td>\n",
       "    </tr>\n",
       "  </tbody>\n",
       "</table>\n",
       "</div>"
      ],
      "text/plain": [
       "   Unnamed: 0                                         address  employee_id  \\\n",
       "0           0   98 Edinburgh St, San Francisco, CA 94112, USA          206   \n",
       "1           1        237 Accacia St, Daly City, CA 94014, USA         2081   \n",
       "2           2    1835 Folsom St, San Francisco, CA 94103, USA          178   \n",
       "3           3  170 Cambridge St, San Francisco, CA 94134, USA           50   \n",
       "4           4     16 Roanoke St, San Francisco, CA 94131, USA         1863   \n",
       "\n",
       "    longitude   latitude  \n",
       "0 -122.427311  37.727605  \n",
       "1 -122.415915  37.704391  \n",
       "2 -122.415454  37.767950  \n",
       "3 -122.419539  37.729672  \n",
       "4 -122.431277  37.736422  "
      ]
     },
     "execution_count": 20,
     "metadata": {},
     "output_type": "execute_result"
    }
   ],
   "source": [
    "employee_addresses.head()"
   ]
  },
  {
   "cell_type": "markdown",
   "metadata": {},
   "source": [
    "# Overview of the datasets"
   ]
  },
  {
   "cell_type": "markdown",
   "metadata": {},
   "source": [
    "<img src=\"geocoding.png\">"
   ]
  },
  {
   "cell_type": "markdown",
   "metadata": {},
   "source": [
    "# Clustering addresses (Zoning)"
   ]
  },
  {
   "cell_type": "code",
   "execution_count": 21,
   "metadata": {},
   "outputs": [
    {
     "name": "stderr",
     "output_type": "stream",
     "text": [
      "/miniconda3/lib/python3.6/site-packages/ipykernel_launcher.py:1: FutureWarning: Method .as_matrix will be removed in a future version. Use .values instead.\n",
      "  \"\"\"Entry point for launching an IPython kernel.\n"
     ]
    },
    {
     "data": {
      "text/plain": [
       "KMeans(algorithm='auto', copy_x=True, init='k-means++', max_iter=300,\n",
       "    n_clusters=10, n_init=10, n_jobs=None, precompute_distances='auto',\n",
       "    random_state=None, tol=0.0001, verbose=0)"
      ]
     },
     "execution_count": 21,
     "metadata": {},
     "output_type": "execute_result"
    }
   ],
   "source": [
    "coords = employee_addresses.as_matrix(columns=['latitude', 'longitude']) # should be employee address\n",
    "kmeans = KMeans(n_clusters=10)\n",
    "kmeans.fit(coords)"
   ]
  },
  {
   "cell_type": "code",
   "execution_count": 22,
   "metadata": {},
   "outputs": [],
   "source": [
    "# Get centroids\n",
    "employee_addresses_centroids = kmeans.cluster_centers_"
   ]
  },
  {
   "cell_type": "code",
   "execution_count": 23,
   "metadata": {},
   "outputs": [
    {
     "data": {
      "text/plain": [
       "array([[  37.71230231, -122.44239652],\n",
       "       [  37.76941676, -122.41325679],\n",
       "       [  37.79238025, -122.44363024],\n",
       "       [  37.74088998, -122.4261256 ],\n",
       "       [  37.73568261, -122.40337384],\n",
       "       [  37.70984887, -122.41246354],\n",
       "       [  37.78271404, -122.39831101],\n",
       "       [  37.74409401, -122.44901411],\n",
       "       [  37.72818816, -122.42872848],\n",
       "       [  37.76819869, -122.42986726]])"
      ]
     },
     "execution_count": 23,
     "metadata": {},
     "output_type": "execute_result"
    }
   ],
   "source": [
    "employee_addresses_centroids"
   ]
  },
  {
   "cell_type": "markdown",
   "metadata": {},
   "source": [
    "# Folium map"
   ]
  },
  {
   "cell_type": "code",
   "execution_count": 24,
   "metadata": {},
   "outputs": [
    {
     "data": {
      "text/html": [
       "<div style=\"width:100%;\"><div style=\"position:relative;width:100%;height:0;padding-bottom:60%;\"><iframe src=\"data:text/html;charset=utf-8;base64,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\" style=\"position:absolute;width:100%;height:100%;left:0;top:0;border:none !important;\" allowfullscreen webkitallowfullscreen mozallowfullscreen></iframe></div></div>"
      ],
      "text/plain": [
       "<folium.folium.Map at 0x1a203e0ac8>"
      ]
     },
     "metadata": {},
     "output_type": "display_data"
    }
   ],
   "source": [
    "m = folium.Map(location=[37.75, -122.4], zoom_start=13)\n",
    "\n",
    "# Employee address centroid markers\n",
    "for i in range(10):\n",
    "    folium.Marker([employee_addresses_centroids[i, 0], employee_addresses_centroids[i, 1]]).add_to(m)\n",
    "    \n",
    "display(m)"
   ]
  },
  {
   "cell_type": "markdown",
   "metadata": {},
   "source": [
    "<img src=\"clustering.png\">"
   ]
  },
  {
   "cell_type": "markdown",
   "metadata": {},
   "source": [
    "# Key optimization metric"
   ]
  },
  {
   "cell_type": "markdown",
   "metadata": {},
   "source": [
    "In reality, we should use a metric related to walk score or walk distance. Google Map API can provide that. As an alternative, we are using Manhattan distance for now."
   ]
  },
  {
   "cell_type": "code",
   "execution_count": 27,
   "metadata": {},
   "outputs": [],
   "source": [
    "A = np.column_stack([bus_stops['longitude'], bus_stops['latitude']])\n",
    "B = np.column_stack([employee_addresses_centroids[:, 1], employee_addresses_centroids[:, 0]])\n",
    "distance = cdist(A, B, metric='cityblock')\n",
    "distance_sum = np.sum(distance, 1)"
   ]
  },
  {
   "cell_type": "code",
   "execution_count": 42,
   "metadata": {},
   "outputs": [
    {
     "data": {
      "text/plain": [
       "(119, 10)"
      ]
     },
     "execution_count": 42,
     "metadata": {},
     "output_type": "execute_result"
    }
   ],
   "source": [
    "np.shape(distance)"
   ]
  },
  {
   "cell_type": "markdown",
   "metadata": {},
   "source": [
    "# Best 10 stops"
   ]
  },
  {
   "cell_type": "markdown",
   "metadata": {},
   "source": [
    "The stops sorted by least sum distances are considered as the best 10 stops."
   ]
  },
  {
   "cell_type": "code",
   "execution_count": 40,
   "metadata": {},
   "outputs": [
    {
     "data": {
      "text/html": [
       "<div>\n",
       "<style scoped>\n",
       "    .dataframe tbody tr th:only-of-type {\n",
       "        vertical-align: middle;\n",
       "    }\n",
       "\n",
       "    .dataframe tbody tr th {\n",
       "        vertical-align: top;\n",
       "    }\n",
       "\n",
       "    .dataframe thead th {\n",
       "        text-align: right;\n",
       "    }\n",
       "</style>\n",
       "<table border=\"1\" class=\"dataframe\">\n",
       "  <thead>\n",
       "    <tr style=\"text-align: right;\">\n",
       "      <th></th>\n",
       "      <th>Unnamed: 0</th>\n",
       "      <th>Street_One</th>\n",
       "      <th>Street_Two</th>\n",
       "      <th>address</th>\n",
       "      <th>address2</th>\n",
       "      <th>address3</th>\n",
       "      <th>longitude</th>\n",
       "      <th>latitude</th>\n",
       "    </tr>\n",
       "  </thead>\n",
       "  <tbody>\n",
       "    <tr>\n",
       "      <th>67</th>\n",
       "      <td>67</td>\n",
       "      <td>MISSION ST</td>\n",
       "      <td>CONCORD ST</td>\n",
       "      <td>MISSION ST and CONCORD ST , San Francisco, CA</td>\n",
       "      <td>CONCORD ST and MISSION ST, San Francisco, CA</td>\n",
       "      <td>CONCORD ST , San Francisco, CA</td>\n",
       "      <td>-122.442172</td>\n",
       "      <td>37.710944</td>\n",
       "    </tr>\n",
       "    <tr>\n",
       "      <th>69</th>\n",
       "      <td>69</td>\n",
       "      <td>MISSION ST</td>\n",
       "      <td>10TH ST</td>\n",
       "      <td>MISSION ST and 10TH ST , San Francisco, CA</td>\n",
       "      <td>10TH ST and MISSION ST, San Francisco, CA</td>\n",
       "      <td>10TH ST , San Francisco, CA</td>\n",
       "      <td>-122.408071</td>\n",
       "      <td>37.768955</td>\n",
       "    </tr>\n",
       "    <tr>\n",
       "      <th>34</th>\n",
       "      <td>34</td>\n",
       "      <td>MISSION ST</td>\n",
       "      <td>17TH ST</td>\n",
       "      <td>MISSION ST and 17TH ST , San Francisco, CA</td>\n",
       "      <td>17TH ST and MISSION ST, San Francisco, CA</td>\n",
       "      <td>17TH ST , San Francisco, CA</td>\n",
       "      <td>-122.447702</td>\n",
       "      <td>37.761736</td>\n",
       "    </tr>\n",
       "    <tr>\n",
       "      <th>111</th>\n",
       "      <td>111</td>\n",
       "      <td>MISSION ST</td>\n",
       "      <td>BROOK ST</td>\n",
       "      <td>MISSION ST and BROOK ST , San Francisco, CA</td>\n",
       "      <td>BROOK ST and MISSION ST, San Francisco, CA</td>\n",
       "      <td>BROOK ST , San Francisco, CA</td>\n",
       "      <td>-122.423451</td>\n",
       "      <td>37.740685</td>\n",
       "    </tr>\n",
       "    <tr>\n",
       "      <th>51</th>\n",
       "      <td>51</td>\n",
       "      <td>MISSION ST</td>\n",
       "      <td>EUGENIA AVE</td>\n",
       "      <td>MISSION ST and EUGENIA AVE , San Francisco, CA</td>\n",
       "      <td>EUGENIA AVE and MISSION ST, San Francisco, CA</td>\n",
       "      <td>EUGENIA AVE , San Francisco, CA</td>\n",
       "      <td>-122.415787</td>\n",
       "      <td>37.740412</td>\n",
       "    </tr>\n",
       "    <tr>\n",
       "      <th>53</th>\n",
       "      <td>53</td>\n",
       "      <td>MISSION ST</td>\n",
       "      <td>FRANCE AVE</td>\n",
       "      <td>MISSION ST and FRANCE AVE , San Francisco, CA</td>\n",
       "      <td>FRANCE AVE and MISSION ST, San Francisco, CA</td>\n",
       "      <td>FRANCE AVE , San Francisco, CA</td>\n",
       "      <td>-122.430670</td>\n",
       "      <td>37.716440</td>\n",
       "    </tr>\n",
       "    <tr>\n",
       "      <th>73</th>\n",
       "      <td>73</td>\n",
       "      <td>MISSION ST</td>\n",
       "      <td>SHAW ALY</td>\n",
       "      <td>MISSION ST and SHAW ALY , San Francisco, CA</td>\n",
       "      <td>SHAW ALY and MISSION ST, San Francisco, CA</td>\n",
       "      <td>SHAW ALY , San Francisco, CA</td>\n",
       "      <td>-122.397562</td>\n",
       "      <td>37.788190</td>\n",
       "    </tr>\n",
       "    <tr>\n",
       "      <th>85</th>\n",
       "      <td>85</td>\n",
       "      <td>MISSION ST</td>\n",
       "      <td>25TH ST</td>\n",
       "      <td>MISSION ST and 25TH ST , San Francisco, CA</td>\n",
       "      <td>25TH ST and MISSION ST, San Francisco, CA</td>\n",
       "      <td>25TH ST , San Francisco, CA</td>\n",
       "      <td>-122.440573</td>\n",
       "      <td>37.749297</td>\n",
       "    </tr>\n",
       "    <tr>\n",
       "      <th>17</th>\n",
       "      <td>17</td>\n",
       "      <td>MISSION ST</td>\n",
       "      <td>TRUMBULL ST</td>\n",
       "      <td>MISSION ST and TRUMBULL ST , San Francisco, CA</td>\n",
       "      <td>TRUMBULL ST and MISSION ST, San Francisco, CA</td>\n",
       "      <td>TRUMBULL ST , San Francisco, CA</td>\n",
       "      <td>-122.429318</td>\n",
       "      <td>37.730611</td>\n",
       "    </tr>\n",
       "    <tr>\n",
       "      <th>18</th>\n",
       "      <td>18</td>\n",
       "      <td>MISSION ST</td>\n",
       "      <td>15TH ST</td>\n",
       "      <td>MISSION ST and 15TH ST , San Francisco, CA</td>\n",
       "      <td>15TH ST and MISSION ST, San Francisco, CA</td>\n",
       "      <td>15TH ST , San Francisco, CA</td>\n",
       "      <td>-122.431055</td>\n",
       "      <td>37.766005</td>\n",
       "    </tr>\n",
       "  </tbody>\n",
       "</table>\n",
       "</div>"
      ],
      "text/plain": [
       "     Unnamed: 0  Street_One   Street_Two  \\\n",
       "67           67  MISSION ST   CONCORD ST   \n",
       "69           69  MISSION ST      10TH ST   \n",
       "34           34  MISSION ST      17TH ST   \n",
       "111         111  MISSION ST     BROOK ST   \n",
       "51           51  MISSION ST  EUGENIA AVE   \n",
       "53           53  MISSION ST   FRANCE AVE   \n",
       "73           73  MISSION ST     SHAW ALY   \n",
       "85           85  MISSION ST      25TH ST   \n",
       "17           17  MISSION ST  TRUMBULL ST   \n",
       "18           18  MISSION ST      15TH ST   \n",
       "\n",
       "                                            address  \\\n",
       "67    MISSION ST and CONCORD ST , San Francisco, CA   \n",
       "69       MISSION ST and 10TH ST , San Francisco, CA   \n",
       "34       MISSION ST and 17TH ST , San Francisco, CA   \n",
       "111     MISSION ST and BROOK ST , San Francisco, CA   \n",
       "51   MISSION ST and EUGENIA AVE , San Francisco, CA   \n",
       "53    MISSION ST and FRANCE AVE , San Francisco, CA   \n",
       "73      MISSION ST and SHAW ALY , San Francisco, CA   \n",
       "85       MISSION ST and 25TH ST , San Francisco, CA   \n",
       "17   MISSION ST and TRUMBULL ST , San Francisco, CA   \n",
       "18       MISSION ST and 15TH ST , San Francisco, CA   \n",
       "\n",
       "                                          address2  \\\n",
       "67    CONCORD ST and MISSION ST, San Francisco, CA   \n",
       "69       10TH ST and MISSION ST, San Francisco, CA   \n",
       "34       17TH ST and MISSION ST, San Francisco, CA   \n",
       "111     BROOK ST and MISSION ST, San Francisco, CA   \n",
       "51   EUGENIA AVE and MISSION ST, San Francisco, CA   \n",
       "53    FRANCE AVE and MISSION ST, San Francisco, CA   \n",
       "73      SHAW ALY and MISSION ST, San Francisco, CA   \n",
       "85       25TH ST and MISSION ST, San Francisco, CA   \n",
       "17   TRUMBULL ST and MISSION ST, San Francisco, CA   \n",
       "18       15TH ST and MISSION ST, San Francisco, CA   \n",
       "\n",
       "                            address3   longitude   latitude  \n",
       "67    CONCORD ST , San Francisco, CA -122.442172  37.710944  \n",
       "69       10TH ST , San Francisco, CA -122.408071  37.768955  \n",
       "34       17TH ST , San Francisco, CA -122.447702  37.761736  \n",
       "111     BROOK ST , San Francisco, CA -122.423451  37.740685  \n",
       "51   EUGENIA AVE , San Francisco, CA -122.415787  37.740412  \n",
       "53    FRANCE AVE , San Francisco, CA -122.430670  37.716440  \n",
       "73      SHAW ALY , San Francisco, CA -122.397562  37.788190  \n",
       "85       25TH ST , San Francisco, CA -122.440573  37.749297  \n",
       "17   TRUMBULL ST , San Francisco, CA -122.429318  37.730611  \n",
       "18       15TH ST , San Francisco, CA -122.431055  37.766005  "
      ]
     },
     "execution_count": 40,
     "metadata": {},
     "output_type": "execute_result"
    }
   ],
   "source": [
    "np.shape(distance)\n",
    "index_10 = np.argmin(distance, 0)\n",
    "\n",
    "#distance_sort = np.sort(distance_sum)\n",
    "#index_10 = np.argsort(distance_sum)[0:10]\n",
    "bus_stops.iloc[index_10, :]"
   ]
  },
  {
   "cell_type": "markdown",
   "metadata": {},
   "source": [
    "# Folium map for best 10 stops"
   ]
  },
  {
   "cell_type": "code",
   "execution_count": 44,
   "metadata": {},
   "outputs": [
    {
     "data": {
      "text/html": [
       "<div style=\"width:100%;\"><div style=\"position:relative;width:100%;height:0;padding-bottom:60%;\"><iframe src=\"data:text/html;charset=utf-8;base64,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\" style=\"position:absolute;width:100%;height:100%;left:0;top:0;border:none !important;\" allowfullscreen webkitallowfullscreen mozallowfullscreen></iframe></div></div>"
      ],
      "text/plain": [
       "<folium.folium.Map at 0x1a204a1c88>"
      ]
     },
     "metadata": {},
     "output_type": "display_data"
    }
   ],
   "source": [
    "m = folium.Map(location=[37.75, -122.4], zoom_start=13)\n",
    "\n",
    "# Bus stops markers\n",
    "for i in range(0,len(bus_stops)):\n",
    "    folium.Marker([bus_stops.iloc[i]['latitude'], bus_stops.iloc[i]['longitude']]).add_to(m)\n",
    "\n",
    "# Bus stops markers\n",
    "for i in range(10):\n",
    "    folium.Marker([bus_stops.iloc[index_10[i]]['latitude'], bus_stops.iloc[index_10[i]]['longitude']], icon = folium.Icon(color='red')).add_to(m)\n",
    "    \n",
    "# Employee address centroid markers\n",
    "for i in range(10):\n",
    "    folium.Marker([employee_addresses_centroids[i, 0], employee_addresses_centroids[i, 1]], icon = folium.Icon(color='green')).add_to(m)\n",
    "    \n",
    "m.save('results_final.html')\n",
    "display(m)"
   ]
  },
  {
   "cell_type": "markdown",
   "metadata": {},
   "source": [
    "<img src=\"results_final.png\">"
   ]
  },
  {
   "cell_type": "markdown",
   "metadata": {},
   "source": [
    "Blue points are the bus stop points, green points are the clustered employee addresses points, and red points are the selected best 10 stops. The red selected points are deviated from the Mission St due to OpenStreetMap search engine error. Better Map API (e.g. Google Map API) should fix the problem."
   ]
  },
  {
   "cell_type": "code",
   "execution_count": null,
   "metadata": {},
   "outputs": [],
   "source": []
  }
 ],
 "metadata": {
  "kernelspec": {
   "display_name": "Python 3",
   "language": "python",
   "name": "python3"
  },
  "language_info": {
   "codemirror_mode": {
    "name": "ipython",
    "version": 3
   },
   "file_extension": ".py",
   "mimetype": "text/x-python",
   "name": "python",
   "nbconvert_exporter": "python",
   "pygments_lexer": "ipython3",
   "version": "3.6.8"
  }
 },
 "nbformat": 4,
 "nbformat_minor": 2
}
